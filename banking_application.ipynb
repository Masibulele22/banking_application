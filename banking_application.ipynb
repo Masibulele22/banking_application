{
 "cells": [
  {
   "cell_type": "code",
   "execution_count": 1,
   "id": "2e9a3948",
   "metadata": {},
   "outputs": [
    {
     "name": "stdout",
     "output_type": "stream",
     "text": [
      "\n",
      "    Welcome to Romeo Bank\n",
      "    \n",
      "Please enter your details\n",
      "\n",
      "Name: \n",
      "moon\n",
      "\n",
      "Surname: \n",
      "banki\n"
     ]
    },
    {
     "data": {
      "text/plain": [
       "40"
      ]
     },
     "execution_count": 1,
     "metadata": {},
     "output_type": "execute_result"
    }
   ],
   "source": [
    "import math\n",
    "\n",
    "print('''\n",
    "    Welcome to Romeo Bank\n",
    "    ''')\n",
    "print('Please enter your details')\n",
    "print('\\nName: ')\n",
    "name = input(str()).title()\n",
    "print('\\nSurname: ')\n",
    "surname = input(str()).title()\n",
    "\n",
    "bank_data = open(\"bank_data.txt\",\"w+\")\n",
    "transaction_log = open(\"transaction_log.txt\", \"w+\")\n",
    "bank_data.write(\"The banking data of \" + name + \" \" + surname + \" \\n\")\n",
    "transaction_log.write(\"The banking transactions of \" + name + \" \" + surname + \" \\n\")"
   ]
  },
  {
   "cell_type": "code",
   "execution_count": 2,
   "id": "dca33257",
   "metadata": {},
   "outputs": [
    {
     "name": "stdout",
     "output_type": "stream",
     "text": [
      "\n",
      "Would you like to do a Transaction (1) or check your current Balance (2) or Cancel (3)? 1\n",
      "\n",
      "Would you like a Deposit(1) or Withdrawal(2)? 1\n",
      "\n",
      "Enter your deposit amount: 600\n",
      "\n",
      "Your current balance is: R 600.0\n",
      "\n",
      "Would you like to do a Transaction (1) or check your current Balance (2) or Cancel (3)? 1\n",
      "\n",
      "Would you like a Deposit(1) or Withdrawal(2)? 1\n",
      "\n",
      "Enter your deposit amount: 300\n",
      "\n",
      "Your current balance is: R 900.0\n",
      "\n",
      "Would you like to do a Transaction (1) or check your current Balance (2) or Cancel (3)? 2\n",
      "\n",
      "Your current balance is: R 900.0\n",
      "\n",
      "Would you like to do a Transaction (1) or check your current Balance (2) or Cancel (3)? 3\n",
      "\n",
      "Transaction canceled. Thank you for banking with us.\n"
     ]
    }
   ],
   "source": [
    "balance = 0.00\n",
    "\n",
    "while True:\n",
    "    \n",
    "    try:\n",
    "        transaction_type_str = input(str(\"\\nWould you like to do a Transaction (1) or check your current Balance (2) or Cancel (3)? \"))\n",
    "        transaction_type_int = int(transaction_type_str)\n",
    "        transaction_log.write(transaction_type_str + \" \\n\")\n",
    "        \n",
    "        if transaction_type_int == 1:\n",
    "\n",
    "            try:\n",
    "                withdrawal_or_deposit_str = input(str(\"\\nWould you like a Deposit(1) or Withdrawal(2)? \"))\n",
    "                withdrawal_or_deposit_int = int(withdrawal_or_deposit_str)\n",
    "                transaction_log.write(withdrawal_or_deposit_str + \" \\n\")\n",
    "\n",
    "                if withdrawal_or_deposit_int == 1:\n",
    "                \n",
    "                    deposit_str = input(str(\"\\nEnter your deposit amount: \"))\n",
    "                    deposit_int = int(deposit_str)\n",
    "                    balance += deposit_int\n",
    "                    print(\"\\nYour current balance is: R\", balance)\n",
    "                    bank_data.write(deposit_str + \" \\n\")\n",
    "                    continue\n",
    "\n",
    "                elif withdrawal_or_deposit_int == 2:\n",
    "                \n",
    "                    withdrawal_str = input(str(\"\\nEnter your withdrawal amount: \"))\n",
    "                    withdrawal_int = int(withdrawal_str)\n",
    "                    bank_data.write(withdrawal_str + \" \\n\")\n",
    "                    \n",
    "                    if withdrawal_int > balance:\n",
    "                        print(\"\\nInsufficient funds to make requested withdrawal!\")\n",
    "                        print(\"\\nYour current balance is: R\", balance)\n",
    "                        print(\"\\nThank you for banking with us.\")\n",
    "                        break\n",
    "                        \n",
    "                    elif balance < 0:\n",
    "                        print(\"\\nInsufficient funds to make a withdrawal!\")\n",
    "                        print(\"\\nYour current balance is: R\", balance)\n",
    "                        print(\"\\nThank you for banking with us.\")\n",
    "                        break\n",
    "                        \n",
    "                    else:\n",
    "                        balance -= withdrawal_int\n",
    "                        print(\"\\nYour current balance is: R\", balance)\n",
    "                        continue\n",
    "                        \n",
    "                else: \n",
    "                    print(\"\\nEnter a valid Deposit(1) or Withdrawal(2) answer!\")\n",
    "                    continue\n",
    "                \n",
    "            except ValueError:\n",
    "                print(\"\\nEnter a valid numeric answer!\")\n",
    "                continue\n",
    "        \n",
    "        elif transaction_type_int == 2:\n",
    "            print(\"\\nYour current balance is: R\", balance)\n",
    "            transaction_log.write(transaction_type_str + \" \\n\")\n",
    "            continue\n",
    "            \n",
    "        elif transaction_type_int == 3:\n",
    "            print(\"\\nTransaction canceled. Thank you for banking with us.\")\n",
    "            transaction_log.write(transaction_type_str + \" \\n\")\n",
    "            break\n",
    "    \n",
    "        else:\n",
    "            print(\"\\nEnter a valid Deposit(1) or Withdrawal(2) answer!\")\n",
    "            continue\n",
    "    \n",
    "    except ValueError:\n",
    "        print(\"\\nEnter a valid Transaction (1), Balance Check (2) or Cancel (3) answer!\")\n",
    "        continue\n"
   ]
  },
  {
   "cell_type": "code",
   "execution_count": null,
   "id": "f123484e",
   "metadata": {},
   "outputs": [],
   "source": []
  },
  {
   "cell_type": "code",
   "execution_count": null,
   "id": "6709c200",
   "metadata": {},
   "outputs": [],
   "source": []
  },
  {
   "cell_type": "code",
   "execution_count": null,
   "id": "c59e0280",
   "metadata": {},
   "outputs": [],
   "source": []
  }
 ],
 "metadata": {
  "kernelspec": {
   "display_name": "Python 3 (ipykernel)",
   "language": "python",
   "name": "python3"
  },
  "language_info": {
   "codemirror_mode": {
    "name": "ipython",
    "version": 3
   },
   "file_extension": ".py",
   "mimetype": "text/x-python",
   "name": "python",
   "nbconvert_exporter": "python",
   "pygments_lexer": "ipython3",
   "version": "3.9.12"
  }
 },
 "nbformat": 4,
 "nbformat_minor": 5
}
